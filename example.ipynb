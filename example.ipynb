{
 "cells": [
  {
   "cell_type": "code",
   "execution_count": 1,
   "metadata": {},
   "outputs": [
    {
     "name": "stdout",
     "output_type": "stream",
     "text": [
      "Using TensorFlow backend.\n"
     ]
    },
    {
     "name": "stderr",
     "output_type": "stream",
     "text": [
      "/Users/o.silutina/anaconda3/lib/python3.6/site-packages/theano/configdefaults.py:560: UserWarning: DeprecationWarning: there is no c++ compiler.This is deprecated and with Theano 0.11 a c++ compiler will be mandatory\n",
      "  warnings.warn(\"DeprecationWarning: there is no c++ compiler.\"\n",
      "WARNING (theano.configdefaults): g++ not detected ! Theano will be unable to execute optimized C-implementations (for both CPU and GPU) and will default to Python implementations. Performance will be severely degraded. To remove this warning, set Theano flags cxx to an empty string.\n",
      "WARNING (theano.tensor.blas): Using NumPy C-API based implementation for BLAS functions.\n"
     ]
    }
   ],
   "source": [
    "from socialsent import seeds\n",
    "from socialsent import lexicons\n",
    "from socialsent.polarity_induction_methods import *\n",
    "from socialsent.evaluate_methods import binary_metrics\n",
    "from socialsent.representations.representation_factory import create_representation"
   ]
  },
  {
   "cell_type": "code",
   "execution_count": 2,
   "metadata": {},
   "outputs": [],
   "source": [
    "lexicon = lexicons.load_lexicon(\"dic_sent\", remove_neutral=True)"
   ]
  },
  {
   "cell_type": "code",
   "execution_count": 3,
   "metadata": {},
   "outputs": [],
   "source": [
    "pos_seeds, neg_seeds = seeds.hist_seeds()"
   ]
  },
  {
   "cell_type": "code",
   "execution_count": 4,
   "metadata": {},
   "outputs": [],
   "source": [
    "num_lines = sum(1 for line in \\\n",
    "                open('socialsent/data/example_embeddings/data_emo.txt'))"
   ]
  },
  {
   "cell_type": "code",
   "execution_count": 5,
   "metadata": {},
   "outputs": [
    {
     "name": "stdout",
     "output_type": "stream",
     "text": [
      "91808\n",
      "5000\n",
      "5020\n",
      "Getting positive scores..\n",
      "Getting negative scores..\n",
      "Computing final scores...\n",
      "5020/5020 [==============================] - 0s     \n"
     ]
    }
   ],
   "source": [
    "for f, t in zip(list(range(0, num_lines, 5000)), [x + 5000 for x in list(range(0, num_lines, 5000))]):\n",
    "    if t > num_lines:\n",
    "        t = num_lines\n",
    "\n",
    "    embeddings = create_representation(\"GIGA\", \"socialsent/data/example_embeddings/data_emo.txt\", set([x.encode('utf-8') for x in lexicon.keys()]).union(pos_seeds).union(neg_seeds), f, t)\n",
    "    eval_words = [word for word in embeddings.iw\n",
    "                if not word in pos_seeds\n",
    "                and not word in neg_seeds]\n",
    "    polarities = graph_propagate(embeddings, pos_seeds, neg_seeds)\n",
    "    break #remove break if you want to go over all words and write their sentiments into files\n",
    "    \n",
    "    import codecs\n",
    "    import json\n",
    "    with codecs.open('socialsent/data/polarities/dic_sent_model_unseen_{part}.json'.format(part=f), 'w', \"utf-8\") as fp:\n",
    "        json.dump(polarities, fp, ensure_ascii=False)\n",
    "    print(polarities)\n",
    "    type(lexicon)"
   ]
  },
  {
   "cell_type": "code",
   "execution_count": 6,
   "metadata": {
    "scrolled": true
   },
   "outputs": [
    {
     "name": "stdout",
     "output_type": "stream",
     "text": [
      "и is the first word in eval list\n",
      "<class 'dict'>\n",
      "аборт is the first word in lexicon\n",
      "<class 'dict'>\n",
      "5000 words to evaluate\n",
      "477 words from lexicon found\n"
     ]
    }
   ],
   "source": [
    "acc = binary_metrics(polarities, lexicon, eval_words)"
   ]
  },
  {
   "cell_type": "code",
   "execution_count": 7,
   "metadata": {},
   "outputs": [
    {
     "data": {
      "text/plain": [
       "0.9381551362683438"
      ]
     },
     "execution_count": 7,
     "metadata": {},
     "output_type": "execute_result"
    }
   ],
   "source": [
    "acc"
   ]
  },
  {
   "cell_type": "code",
   "execution_count": null,
   "metadata": {},
   "outputs": [],
   "source": []
  },
  {
   "cell_type": "code",
   "execution_count": null,
   "metadata": {},
   "outputs": [],
   "source": []
  },
  {
   "cell_type": "code",
   "execution_count": null,
   "metadata": {},
   "outputs": [],
   "source": []
  }
 ],
 "metadata": {
  "kernelspec": {
   "display_name": "Python 3",
   "language": "python",
   "name": "python3"
  },
  "language_info": {
   "codemirror_mode": {
    "name": "ipython",
    "version": 3
   },
   "file_extension": ".py",
   "mimetype": "text/x-python",
   "name": "python",
   "nbconvert_exporter": "python",
   "pygments_lexer": "ipython3",
   "version": "3.6.8"
  }
 },
 "nbformat": 4,
 "nbformat_minor": 2
}
